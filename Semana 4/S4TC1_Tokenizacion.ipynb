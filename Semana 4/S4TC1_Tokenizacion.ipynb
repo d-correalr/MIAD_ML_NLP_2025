{
 "cells": [
  {
   "cell_type": "markdown",
   "metadata": {},
   "source": [
    "![image info](https://raw.githubusercontent.com/albahnsen/MIAD_ML_and_NLP/main/images/banner_1.png)"
   ]
  },
  {
   "cell_type": "markdown",
   "metadata": {},
   "source": [
    "# Taller: Tokenización de textos  \n",
    "\n",
    "En este taller podrán poner en práctica sus conocimientos sobre preprocesamiento de texto (tokenización). El taller está constituido por 5 puntos, en los cuales deberan seguir las intrucciones de cada numeral para su desarrollo."
   ]
  },
  {
   "cell_type": "markdown",
   "metadata": {},
   "source": [
    "## Datos detección de toxicidad en comentarios\n",
    "\n",
    "En este taller se usará el conjunto de datos de detección de toxicidad en comentarios de la base de datos de Kaggle. Cada observación es un comentario que tiene como variable objetivo (target) la probabilidad de ser un comentario tóxico. El objetivo es predecir la toxicidad de cada comentario. Para más detalles pueden visitar el siguiente enlace: [datos](https://www.kaggle.com/c/jigsaw-unintended-bias-in-toxicity-classification/data)."
   ]
  },
  {
   "cell_type": "code",
   "execution_count": null,
   "metadata": {},
   "outputs": [
    {
     "name": "stdout",
     "output_type": "stream",
     "text": [
      "Requirement already satisfied: pandas>=1.3 in c:\\users\\win\\anaconda3\\lib\\site-packages (from -r requirements.txt (line 2)) (1.5.3)\n",
      "Requirement already satisfied: numpy>=1.21 in c:\\users\\win\\anaconda3\\lib\\site-packages (from -r requirements.txt (line 3)) (1.23.5)\n",
      "Requirement already satisfied: scikit-learn<1.4,>=1.1 in c:\\users\\win\\anaconda3\\lib\\site-packages (from -r requirements.txt (line 4)) (1.2.1)\n",
      "Requirement already satisfied: matplotlib>=3.5 in c:\\users\\win\\anaconda3\\lib\\site-packages (from -r requirements.txt (line 5)) (3.7.0)\n",
      "Requirement already satisfied: scipy>=1.7 in c:\\users\\win\\anaconda3\\lib\\site-packages (from -r requirements.txt (line 6)) (1.10.0)\n",
      "Requirement already satisfied: jupyterlab>=3.4 in c:\\users\\win\\anaconda3\\lib\\site-packages (from -r requirements.txt (line 9)) (3.5.3)\n",
      "Requirement already satisfied: notebook>=6.4 in c:\\users\\win\\anaconda3\\lib\\site-packages (from -r requirements.txt (line 10)) (6.5.2)\n",
      "Requirement already satisfied: requests>=2.26 in c:\\users\\win\\anaconda3\\lib\\site-packages (from -r requirements.txt (line 13)) (2.28.1)\n",
      "Requirement already satisfied: pytz>=2020.1 in c:\\users\\win\\anaconda3\\lib\\site-packages (from pandas>=1.3->-r requirements.txt (line 2)) (2022.7)\n",
      "Requirement already satisfied: python-dateutil>=2.8.1 in c:\\users\\win\\anaconda3\\lib\\site-packages (from pandas>=1.3->-r requirements.txt (line 2)) (2.8.2)\n",
      "Requirement already satisfied: joblib>=1.1.1 in c:\\users\\win\\anaconda3\\lib\\site-packages (from scikit-learn<1.4,>=1.1->-r requirements.txt (line 4)) (1.1.1)\n",
      "Requirement already satisfied: threadpoolctl>=2.0.0 in c:\\users\\win\\anaconda3\\lib\\site-packages (from scikit-learn<1.4,>=1.1->-r requirements.txt (line 4)) (2.2.0)\n",
      "Requirement already satisfied: kiwisolver>=1.0.1 in c:\\users\\win\\anaconda3\\lib\\site-packages (from matplotlib>=3.5->-r requirements.txt (line 5)) (1.4.4)\n",
      "Requirement already satisfied: cycler>=0.10 in c:\\users\\win\\anaconda3\\lib\\site-packages (from matplotlib>=3.5->-r requirements.txt (line 5)) (0.11.0)\n",
      "Requirement already satisfied: pillow>=6.2.0 in c:\\users\\win\\anaconda3\\lib\\site-packages (from matplotlib>=3.5->-r requirements.txt (line 5)) (9.4.0)\n",
      "Requirement already satisfied: pyparsing>=2.3.1 in c:\\users\\win\\anaconda3\\lib\\site-packages (from matplotlib>=3.5->-r requirements.txt (line 5)) (3.0.9)\n",
      "Requirement already satisfied: contourpy>=1.0.1 in c:\\users\\win\\anaconda3\\lib\\site-packages (from matplotlib>=3.5->-r requirements.txt (line 5)) (1.0.5)\n",
      "Requirement already satisfied: packaging>=20.0 in c:\\users\\win\\anaconda3\\lib\\site-packages (from matplotlib>=3.5->-r requirements.txt (line 5)) (22.0)\n",
      "Requirement already satisfied: fonttools>=4.22.0 in c:\\users\\win\\anaconda3\\lib\\site-packages (from matplotlib>=3.5->-r requirements.txt (line 5)) (4.25.0)\n",
      "Requirement already satisfied: importlib-resources>=3.2.0 in c:\\users\\win\\anaconda3\\lib\\site-packages (from matplotlib>=3.5->-r requirements.txt (line 5)) (5.2.0)\n",
      "Requirement already satisfied: ipython in c:\\users\\win\\anaconda3\\lib\\site-packages (from jupyterlab>=3.4->-r requirements.txt (line 9)) (8.12.0)\n",
      "Requirement already satisfied: nbclassic in c:\\users\\win\\anaconda3\\lib\\site-packages (from jupyterlab>=3.4->-r requirements.txt (line 9)) (0.5.2)\n",
      "Requirement already satisfied: jupyter-server<3,>=1.16.0 in c:\\users\\win\\anaconda3\\lib\\site-packages (from jupyterlab>=3.4->-r requirements.txt (line 9)) (1.23.4)\n",
      "Requirement already satisfied: jinja2>=2.1 in c:\\users\\win\\anaconda3\\lib\\site-packages (from jupyterlab>=3.4->-r requirements.txt (line 9)) (3.1.2)\n",
      "Requirement already satisfied: jupyter-core in c:\\users\\win\\anaconda3\\lib\\site-packages (from jupyterlab>=3.4->-r requirements.txt (line 9)) (5.2.0)\n",
      "Requirement already satisfied: jupyterlab-server~=2.10 in c:\\users\\win\\anaconda3\\lib\\site-packages (from jupyterlab>=3.4->-r requirements.txt (line 9)) (2.19.0)\n",
      "Requirement already satisfied: tomli in c:\\users\\win\\anaconda3\\lib\\site-packages (from jupyterlab>=3.4->-r requirements.txt (line 9)) (2.0.1)\n",
      "Requirement already satisfied: tornado>=6.1.0 in c:\\users\\win\\anaconda3\\lib\\site-packages (from jupyterlab>=3.4->-r requirements.txt (line 9)) (6.2)\n",
      "Requirement already satisfied: terminado>=0.8.3 in c:\\users\\win\\anaconda3\\lib\\site-packages (from notebook>=6.4->-r requirements.txt (line 10)) (0.17.1)\n",
      "Requirement already satisfied: argon2-cffi in c:\\users\\win\\anaconda3\\lib\\site-packages (from notebook>=6.4->-r requirements.txt (line 10)) (21.3.0)\n",
      "Requirement already satisfied: Send2Trash>=1.8.0 in c:\\users\\win\\anaconda3\\lib\\site-packages (from notebook>=6.4->-r requirements.txt (line 10)) (1.8.0)\n",
      "Requirement already satisfied: nbformat in c:\\users\\win\\anaconda3\\lib\\site-packages (from notebook>=6.4->-r requirements.txt (line 10)) (5.7.0)\n",
      "Requirement already satisfied: nbconvert>=5 in c:\\users\\win\\anaconda3\\lib\\site-packages (from notebook>=6.4->-r requirements.txt (line 10)) (6.5.4)\n",
      "Requirement already satisfied: jupyter-client>=5.3.4 in c:\\users\\win\\anaconda3\\lib\\site-packages (from notebook>=6.4->-r requirements.txt (line 10)) (8.1.0)\n",
      "Requirement already satisfied: ipython-genutils in c:\\users\\win\\anaconda3\\lib\\site-packages (from notebook>=6.4->-r requirements.txt (line 10)) (0.2.0)\n",
      "Requirement already satisfied: nest-asyncio>=1.5 in c:\\users\\win\\anaconda3\\lib\\site-packages (from notebook>=6.4->-r requirements.txt (line 10)) (1.5.6)\n",
      "Requirement already satisfied: traitlets>=4.2.1 in c:\\users\\win\\anaconda3\\lib\\site-packages (from notebook>=6.4->-r requirements.txt (line 10)) (5.7.1)\n",
      "Requirement already satisfied: prometheus-client in c:\\users\\win\\anaconda3\\lib\\site-packages (from notebook>=6.4->-r requirements.txt (line 10)) (0.14.1)\n",
      "Requirement already satisfied: ipykernel in c:\\users\\win\\anaconda3\\lib\\site-packages (from notebook>=6.4->-r requirements.txt (line 10)) (6.19.2)\n",
      "Requirement already satisfied: pyzmq>=17 in c:\\users\\win\\anaconda3\\lib\\site-packages (from notebook>=6.4->-r requirements.txt (line 10)) (23.2.0)\n",
      "Requirement already satisfied: certifi>=2017.4.17 in c:\\users\\win\\anaconda3\\lib\\site-packages (from requests>=2.26->-r requirements.txt (line 13)) (2022.12.7)\n",
      "Requirement already satisfied: urllib3<1.27,>=1.21.1 in c:\\users\\win\\anaconda3\\lib\\site-packages (from requests>=2.26->-r requirements.txt (line 13)) (1.26.14)\n",
      "Requirement already satisfied: charset-normalizer<3,>=2 in c:\\users\\win\\anaconda3\\lib\\site-packages (from requests>=2.26->-r requirements.txt (line 13)) (2.0.4)\n",
      "Requirement already satisfied: idna<4,>=2.5 in c:\\users\\win\\anaconda3\\lib\\site-packages (from requests>=2.26->-r requirements.txt (line 13)) (3.4)\n",
      "Requirement already satisfied: zipp>=3.1.0 in c:\\users\\win\\anaconda3\\lib\\site-packages (from importlib-resources>=3.2.0->matplotlib>=3.5->-r requirements.txt (line 5)) (3.11.0)\n",
      "Requirement already satisfied: MarkupSafe>=2.0 in c:\\users\\win\\anaconda3\\lib\\site-packages (from jinja2>=2.1->jupyterlab>=3.4->-r requirements.txt (line 9)) (2.1.1)\n",
      "Requirement already satisfied: importlib-metadata>=4.8.3 in c:\\users\\win\\anaconda3\\lib\\site-packages (from jupyter-client>=5.3.4->notebook>=6.4->-r requirements.txt (line 10)) (4.11.3)\n",
      "Requirement already satisfied: platformdirs>=2.5 in c:\\users\\win\\anaconda3\\lib\\site-packages (from jupyter-core->jupyterlab>=3.4->-r requirements.txt (line 9)) (2.5.2)\n",
      "Requirement already satisfied: pywin32>=1.0 in c:\\users\\win\\anaconda3\\lib\\site-packages (from jupyter-core->jupyterlab>=3.4->-r requirements.txt (line 9)) (305.1)\n",
      "Requirement already satisfied: anyio<4,>=3.1.0 in c:\\users\\win\\anaconda3\\lib\\site-packages (from jupyter-server<3,>=1.16.0->jupyterlab>=3.4->-r requirements.txt (line 9)) (3.5.0)\n",
      "Requirement already satisfied: websocket-client in c:\\users\\win\\anaconda3\\lib\\site-packages (from jupyter-server<3,>=1.16.0->jupyterlab>=3.4->-r requirements.txt (line 9)) (0.58.0)\n",
      "Requirement already satisfied: pywinpty in c:\\users\\win\\anaconda3\\lib\\site-packages (from jupyter-server<3,>=1.16.0->jupyterlab>=3.4->-r requirements.txt (line 9)) (2.0.10)\n",
      "Requirement already satisfied: json5>=0.9.0 in c:\\users\\win\\anaconda3\\lib\\site-packages (from jupyterlab-server~=2.10->jupyterlab>=3.4->-r requirements.txt (line 9)) (0.9.6)\n",
      "Requirement already satisfied: babel>=2.10 in c:\\users\\win\\anaconda3\\lib\\site-packages (from jupyterlab-server~=2.10->jupyterlab>=3.4->-r requirements.txt (line 9)) (2.11.0)\n",
      "Requirement already satisfied: jsonschema>=4.17.3 in c:\\users\\win\\anaconda3\\lib\\site-packages (from jupyterlab-server~=2.10->jupyterlab>=3.4->-r requirements.txt (line 9)) (4.17.3)\n",
      "Requirement already satisfied: notebook-shim>=0.1.0 in c:\\users\\win\\anaconda3\\lib\\site-packages (from nbclassic->jupyterlab>=3.4->-r requirements.txt (line 9)) (0.2.2)\n",
      "Requirement already satisfied: nbclient>=0.5.0 in c:\\users\\win\\anaconda3\\lib\\site-packages (from nbconvert>=5->notebook>=6.4->-r requirements.txt (line 10)) (0.5.13)\n",
      "Requirement already satisfied: lxml in c:\\users\\win\\anaconda3\\lib\\site-packages (from nbconvert>=5->notebook>=6.4->-r requirements.txt (line 10)) (4.9.1)\n",
      "Requirement already satisfied: mistune<2,>=0.8.1 in c:\\users\\win\\anaconda3\\lib\\site-packages (from nbconvert>=5->notebook>=6.4->-r requirements.txt (line 10)) (0.8.4)\n",
      "Requirement already satisfied: tinycss2 in c:\\users\\win\\anaconda3\\lib\\site-packages (from nbconvert>=5->notebook>=6.4->-r requirements.txt (line 10)) (1.2.1)\n",
      "Requirement already satisfied: entrypoints>=0.2.2 in c:\\users\\win\\anaconda3\\lib\\site-packages (from nbconvert>=5->notebook>=6.4->-r requirements.txt (line 10)) (0.4)\n",
      "Requirement already satisfied: defusedxml in c:\\users\\win\\anaconda3\\lib\\site-packages (from nbconvert>=5->notebook>=6.4->-r requirements.txt (line 10)) (0.7.1)\n",
      "Requirement already satisfied: pygments>=2.4.1 in c:\\users\\win\\anaconda3\\lib\\site-packages (from nbconvert>=5->notebook>=6.4->-r requirements.txt (line 10)) (2.11.2)\n",
      "Requirement already satisfied: beautifulsoup4 in c:\\users\\win\\anaconda3\\lib\\site-packages (from nbconvert>=5->notebook>=6.4->-r requirements.txt (line 10)) (4.11.1)\n",
      "Requirement already satisfied: bleach in c:\\users\\win\\anaconda3\\lib\\site-packages (from nbconvert>=5->notebook>=6.4->-r requirements.txt (line 10)) (4.1.0)\n",
      "Requirement already satisfied: pandocfilters>=1.4.1 in c:\\users\\win\\anaconda3\\lib\\site-packages (from nbconvert>=5->notebook>=6.4->-r requirements.txt (line 10)) (1.5.0)\n",
      "Requirement already satisfied: jupyterlab-pygments in c:\\users\\win\\anaconda3\\lib\\site-packages (from nbconvert>=5->notebook>=6.4->-r requirements.txt (line 10)) (0.1.2)\n",
      "Requirement already satisfied: fastjsonschema in c:\\users\\win\\anaconda3\\lib\\site-packages (from nbformat->notebook>=6.4->-r requirements.txt (line 10)) (2.16.2)\n",
      "Requirement already satisfied: six>=1.5 in c:\\users\\win\\anaconda3\\lib\\site-packages (from python-dateutil>=2.8.1->pandas>=1.3->-r requirements.txt (line 2)) (1.16.0)\n",
      "Requirement already satisfied: argon2-cffi-bindings in c:\\users\\win\\anaconda3\\lib\\site-packages (from argon2-cffi->notebook>=6.4->-r requirements.txt (line 10)) (21.2.0)\n",
      "Requirement already satisfied: debugpy>=1.0 in c:\\users\\win\\anaconda3\\lib\\site-packages (from ipykernel->notebook>=6.4->-r requirements.txt (line 10)) (1.5.1)\n",
      "Requirement already satisfied: psutil in c:\\users\\win\\anaconda3\\lib\\site-packages (from ipykernel->notebook>=6.4->-r requirements.txt (line 10)) (5.9.0)\n",
      "Requirement already satisfied: comm>=0.1.1 in c:\\users\\win\\anaconda3\\lib\\site-packages (from ipykernel->notebook>=6.4->-r requirements.txt (line 10)) (0.1.2)\n",
      "Requirement already satisfied: matplotlib-inline>=0.1 in c:\\users\\win\\anaconda3\\lib\\site-packages (from ipykernel->notebook>=6.4->-r requirements.txt (line 10)) (0.1.6)\n",
      "Requirement already satisfied: prompt-toolkit!=3.0.37,<3.1.0,>=3.0.30 in c:\\users\\win\\anaconda3\\lib\\site-packages (from ipython->jupyterlab>=3.4->-r requirements.txt (line 9)) (3.0.36)\n",
      "Requirement already satisfied: stack-data in c:\\users\\win\\anaconda3\\lib\\site-packages (from ipython->jupyterlab>=3.4->-r requirements.txt (line 9)) (0.2.0)\n",
      "Requirement already satisfied: pickleshare in c:\\users\\win\\anaconda3\\lib\\site-packages (from ipython->jupyterlab>=3.4->-r requirements.txt (line 9)) (0.7.5)\n",
      "Requirement already satisfied: colorama in c:\\users\\win\\anaconda3\\lib\\site-packages (from ipython->jupyterlab>=3.4->-r requirements.txt (line 9)) (0.4.6)\n",
      "Requirement already satisfied: jedi>=0.16 in c:\\users\\win\\anaconda3\\lib\\site-packages (from ipython->jupyterlab>=3.4->-r requirements.txt (line 9)) (0.18.1)\n",
      "Requirement already satisfied: typing-extensions in c:\\users\\win\\anaconda3\\lib\\site-packages (from ipython->jupyterlab>=3.4->-r requirements.txt (line 9)) (4.4.0)\n",
      "Requirement already satisfied: backcall in c:\\users\\win\\anaconda3\\lib\\site-packages (from ipython->jupyterlab>=3.4->-r requirements.txt (line 9)) (0.2.0)\n",
      "Requirement already satisfied: decorator in c:\\users\\win\\anaconda3\\lib\\site-packages (from ipython->jupyterlab>=3.4->-r requirements.txt (line 9)) (5.1.1)\n",
      "Requirement already satisfied: sniffio>=1.1 in c:\\users\\win\\anaconda3\\lib\\site-packages (from anyio<4,>=3.1.0->jupyter-server<3,>=1.16.0->jupyterlab>=3.4->-r requirements.txt (line 9)) (1.2.0)\n",
      "Requirement already satisfied: parso<0.9.0,>=0.8.0 in c:\\users\\win\\anaconda3\\lib\\site-packages (from jedi>=0.16->ipython->jupyterlab>=3.4->-r requirements.txt (line 9)) (0.8.3)\n",
      "Requirement already satisfied: attrs>=17.4.0 in c:\\users\\win\\anaconda3\\lib\\site-packages (from jsonschema>=4.17.3->jupyterlab-server~=2.10->jupyterlab>=3.4->-r requirements.txt (line 9)) (22.1.0)\n",
      "Requirement already satisfied: pyrsistent!=0.17.0,!=0.17.1,!=0.17.2,>=0.14.0 in c:\\users\\win\\anaconda3\\lib\\site-packages (from jsonschema>=4.17.3->jupyterlab-server~=2.10->jupyterlab>=3.4->-r requirements.txt (line 9)) (0.18.0)\n",
      "Requirement already satisfied: pkgutil-resolve-name>=1.3.10 in c:\\users\\win\\anaconda3\\lib\\site-packages (from jsonschema>=4.17.3->jupyterlab-server~=2.10->jupyterlab>=3.4->-r requirements.txt (line 9)) (1.3.10)\n",
      "Requirement already satisfied: wcwidth in c:\\users\\win\\anaconda3\\lib\\site-packages (from prompt-toolkit!=3.0.37,<3.1.0,>=3.0.30->ipython->jupyterlab>=3.4->-r requirements.txt (line 9)) (0.2.5)\n",
      "Requirement already satisfied: cffi>=1.0.1 in c:\\users\\win\\anaconda3\\lib\\site-packages (from argon2-cffi-bindings->argon2-cffi->notebook>=6.4->-r requirements.txt (line 10)) (1.15.1)\n",
      "Requirement already satisfied: soupsieve>1.2 in c:\\users\\win\\anaconda3\\lib\\site-packages (from beautifulsoup4->nbconvert>=5->notebook>=6.4->-r requirements.txt (line 10)) (2.3.2.post1)\n",
      "Requirement already satisfied: webencodings in c:\\users\\win\\anaconda3\\lib\\site-packages (from bleach->nbconvert>=5->notebook>=6.4->-r requirements.txt (line 10)) (0.5.1)\n",
      "Requirement already satisfied: pure-eval in c:\\users\\win\\anaconda3\\lib\\site-packages (from stack-data->ipython->jupyterlab>=3.4->-r requirements.txt (line 9)) (0.2.2)\n",
      "Requirement already satisfied: asttokens in c:\\users\\win\\anaconda3\\lib\\site-packages (from stack-data->ipython->jupyterlab>=3.4->-r requirements.txt (line 9)) (2.0.5)\n",
      "Requirement already satisfied: executing in c:\\users\\win\\anaconda3\\lib\\site-packages (from stack-data->ipython->jupyterlab>=3.4->-r requirements.txt (line 9)) (0.8.3)\n",
      "Requirement already satisfied: pycparser in c:\\users\\win\\anaconda3\\lib\\site-packages (from cffi>=1.0.1->argon2-cffi-bindings->argon2-cffi->notebook>=6.4->-r requirements.txt (line 10)) (2.21)\n"
     ]
    }
   ],
   "source": [
    "# SUGERIDO: Descomenta la siguiente linea de código si requieres instalar las libreías básicas utilizadas en este notebook\n",
    "# Si requieres incluir más librerías puedes agregarlas al archivo Semana 4\\requirements.txt\n",
    "#!pip install -r requirements.txt"
   ]
  },
  {
   "cell_type": "code",
   "execution_count": 1,
   "metadata": {},
   "outputs": [],
   "source": [
    "import warnings\n",
    "warnings.filterwarnings('ignore')"
   ]
  },
  {
   "cell_type": "code",
   "execution_count": 2,
   "metadata": {},
   "outputs": [],
   "source": [
    "# Importación librerías\n",
    "import pandas as pd\n",
    "import numpy as np\n",
    "import scipy as sp\n",
    "from sklearn.model_selection import train_test_split, cross_val_score\n",
    "from sklearn.feature_extraction.text import CountVectorizer, TfidfVectorizer\n",
    "from sklearn import metrics\n",
    "%matplotlib inline"
   ]
  },
  {
   "cell_type": "code",
   "execution_count": 3,
   "metadata": {},
   "outputs": [
    {
     "data": {
      "text/html": [
       "<div>\n",
       "<style scoped>\n",
       "    .dataframe tbody tr th:only-of-type {\n",
       "        vertical-align: middle;\n",
       "    }\n",
       "\n",
       "    .dataframe tbody tr th {\n",
       "        vertical-align: top;\n",
       "    }\n",
       "\n",
       "    .dataframe thead th {\n",
       "        text-align: right;\n",
       "    }\n",
       "</style>\n",
       "<table border=\"1\" class=\"dataframe\">\n",
       "  <thead>\n",
       "    <tr style=\"text-align: right;\">\n",
       "      <th></th>\n",
       "      <th>id</th>\n",
       "      <th>comment_text</th>\n",
       "      <th>target</th>\n",
       "    </tr>\n",
       "  </thead>\n",
       "  <tbody>\n",
       "    <tr>\n",
       "      <th>0</th>\n",
       "      <td>6101457</td>\n",
       "      <td>What are you talking about? What group do Pete...</td>\n",
       "      <td>0.0</td>\n",
       "    </tr>\n",
       "    <tr>\n",
       "      <th>1</th>\n",
       "      <td>5342103</td>\n",
       "      <td>NO!, Let him, we need a Conservative government.</td>\n",
       "      <td>0.0</td>\n",
       "    </tr>\n",
       "    <tr>\n",
       "      <th>2</th>\n",
       "      <td>743361</td>\n",
       "      <td>Perhaps he took the \"power out of the Cardinal...</td>\n",
       "      <td>0.2</td>\n",
       "    </tr>\n",
       "    <tr>\n",
       "      <th>3</th>\n",
       "      <td>551008</td>\n",
       "      <td>As always, yours is dripping with sarcasm, whi...</td>\n",
       "      <td>0.0</td>\n",
       "    </tr>\n",
       "    <tr>\n",
       "      <th>4</th>\n",
       "      <td>865998</td>\n",
       "      <td>The dirty little secret is that the price rang...</td>\n",
       "      <td>0.3</td>\n",
       "    </tr>\n",
       "  </tbody>\n",
       "</table>\n",
       "</div>"
      ],
      "text/plain": [
       "        id                                       comment_text  target\n",
       "0  6101457  What are you talking about? What group do Pete...     0.0\n",
       "1  5342103   NO!, Let him, we need a Conservative government.     0.0\n",
       "2   743361  Perhaps he took the \"power out of the Cardinal...     0.2\n",
       "3   551008  As always, yours is dripping with sarcasm, whi...     0.0\n",
       "4   865998  The dirty little secret is that the price rang...     0.3"
      ]
     },
     "execution_count": 3,
     "metadata": {},
     "output_type": "execute_result"
    }
   ],
   "source": [
    "# Carga de datos de archivos .csv\n",
    "df = pd.read_csv('https://raw.githubusercontent.com/davidzarruk/MIAD_ML_NLP_2025/main/datasets/Toxicity.zip')\n",
    "df = df[['id','comment_text', 'target']]\n",
    "df.head()"
   ]
  },
  {
   "cell_type": "code",
   "execution_count": 4,
   "metadata": {},
   "outputs": [
    {
     "data": {
      "text/plain": [
       "(541462, 3)"
      ]
     },
     "execution_count": 4,
     "metadata": {},
     "output_type": "execute_result"
    }
   ],
   "source": [
    "df.shape"
   ]
  },
  {
   "cell_type": "code",
   "execution_count": 5,
   "metadata": {},
   "outputs": [
    {
     "data": {
      "text/plain": [
       "<Axes: >"
      ]
     },
     "execution_count": 5,
     "metadata": {},
     "output_type": "execute_result"
    },
    {
     "data": {
      "image/png": "[encoded data removed]",
      "text/plain": [
       "<Figure size 640x480 with 1 Axes>"
      ]
     },
     "metadata": {},
     "output_type": "display_data"
    }
   ],
   "source": [
    "# Impresión histograma de variable de interés (y)\n",
    "df.target.hist()"
   ]
  },
  {
   "cell_type": "code",
   "execution_count": 6,
   "metadata": {},
   "outputs": [
    {
     "data": {
      "text/plain": [
       "count    541462.000000\n",
       "mean          0.102991\n",
       "std           0.196979\n",
       "min           0.000000\n",
       "25%           0.000000\n",
       "50%           0.000000\n",
       "75%           0.166667\n",
       "max           1.000000\n",
       "Name: target, dtype: float64"
      ]
     },
     "execution_count": 6,
     "metadata": {},
     "output_type": "execute_result"
    }
   ],
   "source": [
    "# Separación de variable de interés (y)\n",
    "y = df.target\n",
    "y.describe()"
   ]
  },
  {
   "cell_type": "code",
   "execution_count": 7,
   "metadata": {},
   "outputs": [],
   "source": [
    "# Separación de variables predictoras (X), solo se considera el texto de la noticia\n",
    "X = df.comment_text"
   ]
  },
  {
   "cell_type": "code",
   "execution_count": 8,
   "metadata": {},
   "outputs": [],
   "source": [
    "# Separación de datos en set de entrenamiento y test\n",
    "X_train, X_test, y_train, y_test = train_test_split(X, y, test_size=0.33, random_state=42)"
   ]
  },
  {
   "cell_type": "markdown",
   "metadata": {},
   "source": [
    "## Punto 1 - Tokenización con CountVectorizer\n",
    "\n",
    "En la celda 1 creen y entrenen el modelo de regresión de su preferencia, para que prediga la probabilidad de que un comentario sea tóxico, usando los set de entrenamiento y test definidos anteriormente. Usen la función **CountVectorizer** para preprocesar los comentarios y presenten el desempeño del modelo con la métrica del MSE.\n",
    "\n",
    "Recuerden que el preprocesamiento que se haga sobre los datos de entrenamiento  (*.fit_transform()*) deben ser aplicado al set de test (*.transform()*)."
   ]
  },
  {
   "cell_type": "code",
   "execution_count": 9,
   "metadata": {},
   "outputs": [],
   "source": [
    "# Vectorización con Countvectorizer\n",
    "vectorizer1=CountVectorizer()\n",
    "X_train_vec1=vectorizer1.fit_transform(X_train)\n",
    "X_test_vec1=vectorizer1.transform(X_test)"
   ]
  },
  {
   "cell_type": "code",
   "execution_count": 10,
   "metadata": {},
   "outputs": [
    {
     "data": {
      "text/html": [
       "<style>#sk-container-id-1 {color: black;background-color: white;}#sk-container-id-1 pre{padding: 0;}#sk-container-id-1 div.sk-toggleable {background-color: white;}#sk-container-id-1 label.sk-toggleable__label {cursor: pointer;display: block;width: 100%;margin-bottom: 0;padding: 0.3em;box-sizing: border-box;text-align: center;}#sk-container-id-1 label.sk-toggleable__label-arrow:before {content: \"▸\";float: left;margin-right: 0.25em;color: #696969;}#sk-container-id-1 label.sk-toggleable__label-arrow:hover:before {color: black;}#sk-container-id-1 div.sk-estimator:hover label.sk-toggleable__label-arrow:before {color: black;}#sk-container-id-1 div.sk-toggleable__content {max-height: 0;max-width: 0;overflow: hidden;text-align: left;background-color: #f0f8ff;}#sk-container-id-1 div.sk-toggleable__content pre {margin: 0.2em;color: black;border-radius: 0.25em;background-color: #f0f8ff;}#sk-container-id-1 input.sk-toggleable__control:checked~div.sk-toggleable__content {max-height: 200px;max-width: 100%;overflow: auto;}#sk-container-id-1 input.sk-toggleable__control:checked~label.sk-toggleable__label-arrow:before {content: \"▾\";}#sk-container-id-1 div.sk-estimator input.sk-toggleable__control:checked~label.sk-toggleable__label {background-color: #d4ebff;}#sk-container-id-1 div.sk-label input.sk-toggleable__control:checked~label.sk-toggleable__label {background-color: #d4ebff;}#sk-container-id-1 input.sk-hidden--visually {border: 0;clip: rect(1px 1px 1px 1px);clip: rect(1px, 1px, 1px, 1px);height: 1px;margin: -1px;overflow: hidden;padding: 0;position: absolute;width: 1px;}#sk-container-id-1 div.sk-estimator {font-family: monospace;background-color: #f0f8ff;border: 1px dotted black;border-radius: 0.25em;box-sizing: border-box;margin-bottom: 0.5em;}#sk-container-id-1 div.sk-estimator:hover {background-color: #d4ebff;}#sk-container-id-1 div.sk-parallel-item::after {content: \"\";width: 100%;border-bottom: 1px solid gray;flex-grow: 1;}#sk-container-id-1 div.sk-label:hover label.sk-toggleable__label {background-color: #d4ebff;}#sk-container-id-1 div.sk-serial::before {content: \"\";position: absolute;border-left: 1px solid gray;box-sizing: border-box;top: 0;bottom: 0;left: 50%;z-index: 0;}#sk-container-id-1 div.sk-serial {display: flex;flex-direction: column;align-items: center;background-color: white;padding-right: 0.2em;padding-left: 0.2em;position: relative;}#sk-container-id-1 div.sk-item {position: relative;z-index: 1;}#sk-container-id-1 div.sk-parallel {display: flex;align-items: stretch;justify-content: center;background-color: white;position: relative;}#sk-container-id-1 div.sk-item::before, #sk-container-id-1 div.sk-parallel-item::before {content: \"\";position: absolute;border-left: 1px solid gray;box-sizing: border-box;top: 0;bottom: 0;left: 50%;z-index: -1;}#sk-container-id-1 div.sk-parallel-item {display: flex;flex-direction: column;z-index: 1;position: relative;background-color: white;}#sk-container-id-1 div.sk-parallel-item:first-child::after {align-self: flex-end;width: 50%;}#sk-container-id-1 div.sk-parallel-item:last-child::after {align-self: flex-start;width: 50%;}#sk-container-id-1 div.sk-parallel-item:only-child::after {width: 0;}#sk-container-id-1 div.sk-dashed-wrapped {border: 1px dashed gray;margin: 0 0.4em 0.5em 0.4em;box-sizing: border-box;padding-bottom: 0.4em;background-color: white;}#sk-container-id-1 div.sk-label label {font-family: monospace;font-weight: bold;display: inline-block;line-height: 1.2em;}#sk-container-id-1 div.sk-label-container {text-align: center;}#sk-container-id-1 div.sk-container {/* jupyter's `normalize.less` sets `[hidden] { display: none; }` but bootstrap.min.css set `[hidden] { display: none !important; }` so we also need the `!important` here to be able to override the default hidden behavior on the sphinx rendered scikit-learn.org. See: https://github.com/scikit-learn/scikit-learn/issues/21755 */display: inline-block !important;position: relative;}#sk-container-id-1 div.sk-text-repr-fallback {display: none;}</style><div id=\"sk-container-id-1\" class=\"sk-top-container\"><div class=\"sk-text-repr-fallback\"><pre>Ridge()</pre><b>In a Jupyter environment, please rerun this cell to show the HTML representation or trust the notebook. <br />On GitHub, the HTML representation is unable to render, please try loading this page with nbviewer.org.</b></div><div class=\"sk-container\" hidden><div class=\"sk-item\"><div class=\"sk-estimator sk-toggleable\"><input class=\"sk-toggleable__control sk-hidden--visually\" id=\"sk-estimator-id-1\" type=\"checkbox\" checked><label for=\"sk-estimator-id-1\" class=\"sk-toggleable__label sk-toggleable__label-arrow\">Ridge</label><div class=\"sk-toggleable__content\"><pre>Ridge()</pre></div></div></div></div></div>"
      ],
      "text/plain": [
       "Ridge()"
      ]
     },
     "execution_count": 10,
     "metadata": {},
     "output_type": "execute_result"
    }
   ],
   "source": [
    "#Por practicidad, podemos utilizar un modelo Ridge, se probó Random Forest Regresion, pero era muy pesado para correr\n",
    "from sklearn.linear_model import Ridge\n",
    "model1 = Ridge(alpha=1.0)\n",
    "model1.fit(X_train_vec1, y_train)"
   ]
  },
  {
   "cell_type": "code",
   "execution_count": 12,
   "metadata": {},
   "outputs": [
    {
     "name": "stdout",
     "output_type": "stream",
     "text": [
      "Punto 1 - MSE con CountVectorizer y Ridge: 0.026127342903758757\n"
     ]
    }
   ],
   "source": [
    "#realizamos la predicción y evaluamos\n",
    "from sklearn.metrics import mean_squared_error\n",
    "y_pred1=model1.predict(X_test_vec1)\n",
    "mse1=mean_squared_error(y_test, y_pred1)\n",
    "print(\"Punto 1 - MSE con CountVectorizer y Ridge:\", mse1)\n",
    "  \n"
   ]
  },
  {
   "cell_type": "markdown",
   "metadata": {},
   "source": [
    "## Punto 2 - Tokenización con CountVectorizer y trigramas\n",
    "\n",
    "En la celda 2 creen y entrenen el mismo modelo de regresión del punto anterior (es decir si usaron un RandomForestRegresor usen nuevamente ese regresor), para que prediga la probabilidad de que un comentario sea tóxico, usando los set de entrenamiento y test definidos anteriormente. Usen la función CountVectorizer **considerando trigramas** para preprocesar los comentarios y presenten el desempeño del modelo con la métrica del MSE.\n",
    "\n",
    "Recuerden que el preprocesamiento que se haga sobre los datos de entrenamiento  (*.fit_transform()*) deben ser aplicado al set de test (*.transform()*)."
   ]
  },
  {
   "cell_type": "code",
   "execution_count": 15,
   "metadata": {},
   "outputs": [],
   "source": [
    "# Celda 2\n",
    "vectorizer2=CountVectorizer(ngram_range=(3,3)) #definimos solo trigramas\n",
    "X_train_vec2=vectorizer2.fit_transform(X_train)\n",
    "X_test_vec2=vectorizer2.transform(X_test)"
   ]
  },
  {
   "cell_type": "code",
   "execution_count": 16,
   "metadata": {},
   "outputs": [
    {
     "data": {
      "text/html": [
       "<style>#sk-container-id-2 {color: black;background-color: white;}#sk-container-id-2 pre{padding: 0;}#sk-container-id-2 div.sk-toggleable {background-color: white;}#sk-container-id-2 label.sk-toggleable__label {cursor: pointer;display: block;width: 100%;margin-bottom: 0;padding: 0.3em;box-sizing: border-box;text-align: center;}#sk-container-id-2 label.sk-toggleable__label-arrow:before {content: \"▸\";float: left;margin-right: 0.25em;color: #696969;}#sk-container-id-2 label.sk-toggleable__label-arrow:hover:before {color: black;}#sk-container-id-2 div.sk-estimator:hover label.sk-toggleable__label-arrow:before {color: black;}#sk-container-id-2 div.sk-toggleable__content {max-height: 0;max-width: 0;overflow: hidden;text-align: left;background-color: #f0f8ff;}#sk-container-id-2 div.sk-toggleable__content pre {margin: 0.2em;color: black;border-radius: 0.25em;background-color: #f0f8ff;}#sk-container-id-2 input.sk-toggleable__control:checked~div.sk-toggleable__content {max-height: 200px;max-width: 100%;overflow: auto;}#sk-container-id-2 input.sk-toggleable__control:checked~label.sk-toggleable__label-arrow:before {content: \"▾\";}#sk-container-id-2 div.sk-estimator input.sk-toggleable__control:checked~label.sk-toggleable__label {background-color: #d4ebff;}#sk-container-id-2 div.sk-label input.sk-toggleable__control:checked~label.sk-toggleable__label {background-color: #d4ebff;}#sk-container-id-2 input.sk-hidden--visually {border: 0;clip: rect(1px 1px 1px 1px);clip: rect(1px, 1px, 1px, 1px);height: 1px;margin: -1px;overflow: hidden;padding: 0;position: absolute;width: 1px;}#sk-container-id-2 div.sk-estimator {font-family: monospace;background-color: #f0f8ff;border: 1px dotted black;border-radius: 0.25em;box-sizing: border-box;margin-bottom: 0.5em;}#sk-container-id-2 div.sk-estimator:hover {background-color: #d4ebff;}#sk-container-id-2 div.sk-parallel-item::after {content: \"\";width: 100%;border-bottom: 1px solid gray;flex-grow: 1;}#sk-container-id-2 div.sk-label:hover label.sk-toggleable__label {background-color: #d4ebff;}#sk-container-id-2 div.sk-serial::before {content: \"\";position: absolute;border-left: 1px solid gray;box-sizing: border-box;top: 0;bottom: 0;left: 50%;z-index: 0;}#sk-container-id-2 div.sk-serial {display: flex;flex-direction: column;align-items: center;background-color: white;padding-right: 0.2em;padding-left: 0.2em;position: relative;}#sk-container-id-2 div.sk-item {position: relative;z-index: 1;}#sk-container-id-2 div.sk-parallel {display: flex;align-items: stretch;justify-content: center;background-color: white;position: relative;}#sk-container-id-2 div.sk-item::before, #sk-container-id-2 div.sk-parallel-item::before {content: \"\";position: absolute;border-left: 1px solid gray;box-sizing: border-box;top: 0;bottom: 0;left: 50%;z-index: -1;}#sk-container-id-2 div.sk-parallel-item {display: flex;flex-direction: column;z-index: 1;position: relative;background-color: white;}#sk-container-id-2 div.sk-parallel-item:first-child::after {align-self: flex-end;width: 50%;}#sk-container-id-2 div.sk-parallel-item:last-child::after {align-self: flex-start;width: 50%;}#sk-container-id-2 div.sk-parallel-item:only-child::after {width: 0;}#sk-container-id-2 div.sk-dashed-wrapped {border: 1px dashed gray;margin: 0 0.4em 0.5em 0.4em;box-sizing: border-box;padding-bottom: 0.4em;background-color: white;}#sk-container-id-2 div.sk-label label {font-family: monospace;font-weight: bold;display: inline-block;line-height: 1.2em;}#sk-container-id-2 div.sk-label-container {text-align: center;}#sk-container-id-2 div.sk-container {/* jupyter's `normalize.less` sets `[hidden] { display: none; }` but bootstrap.min.css set `[hidden] { display: none !important; }` so we also need the `!important` here to be able to override the default hidden behavior on the sphinx rendered scikit-learn.org. See: https://github.com/scikit-learn/scikit-learn/issues/21755 */display: inline-block !important;position: relative;}#sk-container-id-2 div.sk-text-repr-fallback {display: none;}</style><div id=\"sk-container-id-2\" class=\"sk-top-container\"><div class=\"sk-text-repr-fallback\"><pre>Ridge()</pre><b>In a Jupyter environment, please rerun this cell to show the HTML representation or trust the notebook. <br />On GitHub, the HTML representation is unable to render, please try loading this page with nbviewer.org.</b></div><div class=\"sk-container\" hidden><div class=\"sk-item\"><div class=\"sk-estimator sk-toggleable\"><input class=\"sk-toggleable__control sk-hidden--visually\" id=\"sk-estimator-id-2\" type=\"checkbox\" checked><label for=\"sk-estimator-id-2\" class=\"sk-toggleable__label sk-toggleable__label-arrow\">Ridge</label><div class=\"sk-toggleable__content\"><pre>Ridge()</pre></div></div></div></div></div>"
      ],
      "text/plain": [
       "Ridge()"
      ]
     },
     "execution_count": 16,
     "metadata": {},
     "output_type": "execute_result"
    }
   ],
   "source": [
    "#nuevamente aplicamos el modelo de regresión ridge\n",
    "model2 = Ridge(alpha=1.0)\n",
    "model2.fit(X_train_vec2, y_train)"
   ]
  },
  {
   "cell_type": "code",
   "execution_count": 17,
   "metadata": {},
   "outputs": [
    {
     "name": "stdout",
     "output_type": "stream",
     "text": [
      "Punto 2 - MSE con trigramas: 0.0367804466365831\n"
     ]
    }
   ],
   "source": [
    "#hacemos la predicción para la tokenización con CountVectorizer y trigramas\n",
    "y_pred2 = model2.predict(X_test_vec2)\n",
    "mse2 = mean_squared_error(y_test, y_pred2)\n",
    "print(\"Punto 2 - MSE con trigramas:\", mse2)"
   ]
  },
  {
   "cell_type": "markdown",
   "metadata": {},
   "source": [
    "## Punto 3 - TfidfVectorizer\n",
    "\n",
    "Investigen sobre la función TfidfVectorizer. En la celda de texto 3, expliquen en qué consiste esta técnica de tokenización (describanla y expliquen su funcionamiento) y cúales son las ventajas o deventajas de su uso al compararlo con la función CountVectorizer."
   ]
  },
  {
   "cell_type": "code",
   "execution_count": null,
   "metadata": {},
   "outputs": [],
   "source": [
    "#La función convierte el texto en evaluación en una matriz, que pondera la frecuencia de una palabra en un documento, dependiendo\n",
    "#que tan rara o común sea dentro de un Corpust. En términos prácticos, resulta de mucha ayuda para la identificación de terminos relevantes\n",
    "#dentro de un documento, evitando que haya un exceso de ruido causado por palabras poco importantes como conectores sin importancia. \n",
    "\n",
    "#Ventajas\n",
    "#-Da un peso relativo bajo a palabras que tienden a repetirse mucho dentro de un texto.\n",
    "#-la función ayuda a mejorar en teoría mucho el desempeño en la predicción cuando hay muchas palabras que no son relevantes.\n",
    "\n",
    "#Desventajas\n",
    "#-No es muy util cuando se utiliza en textos cortos, ya que no es posible bajar el epso de palabras irrelevantes tan facilmente. \n",
    "# -En términos computacionales es mucho más compleja que CountVectorizer.\n"
   ]
  },
  {
   "cell_type": "markdown",
   "metadata": {},
   "source": [
    "## Punto 4 - Tokenización con TfidfVectorizer\n",
    "\n",
    "En la celda 4 creen y entrenen el mismo modelo de regresión del primer punto, para que prediga la probabilidad de que un comentario sea tóxico, usando los set de entrenamiento y test definidos anteriormente. Procesen los comentarios con la función **TfidfVectorizer** y presenten el desempeño del modelo con la métrica del MSE.\n",
    "\n",
    "Recuerden que el preprocesamiento que se haga sobre los datos de entrenamiento  (*.fit_transform()*) deben ser aplicado al set de test (*.transform()*)."
   ]
  },
  {
   "cell_type": "code",
   "execution_count": 19,
   "metadata": {},
   "outputs": [],
   "source": [
    "#llamamos libreria\n",
    "from sklearn.feature_extraction.text import TfidfVectorizer\n",
    "# Vectorización con Tfidf\n",
    "vectorizer4 = TfidfVectorizer()\n",
    "X_train_vec4 = vectorizer4.fit_transform(X_train)\n",
    "X_test_vec4 = vectorizer4.transform(X_test)"
   ]
  },
  {
   "cell_type": "code",
   "execution_count": 20,
   "metadata": {},
   "outputs": [
    {
     "data": {
      "text/html": [
       "<style>#sk-container-id-3 {color: black;background-color: white;}#sk-container-id-3 pre{padding: 0;}#sk-container-id-3 div.sk-toggleable {background-color: white;}#sk-container-id-3 label.sk-toggleable__label {cursor: pointer;display: block;width: 100%;margin-bottom: 0;padding: 0.3em;box-sizing: border-box;text-align: center;}#sk-container-id-3 label.sk-toggleable__label-arrow:before {content: \"▸\";float: left;margin-right: 0.25em;color: #696969;}#sk-container-id-3 label.sk-toggleable__label-arrow:hover:before {color: black;}#sk-container-id-3 div.sk-estimator:hover label.sk-toggleable__label-arrow:before {color: black;}#sk-container-id-3 div.sk-toggleable__content {max-height: 0;max-width: 0;overflow: hidden;text-align: left;background-color: #f0f8ff;}#sk-container-id-3 div.sk-toggleable__content pre {margin: 0.2em;color: black;border-radius: 0.25em;background-color: #f0f8ff;}#sk-container-id-3 input.sk-toggleable__control:checked~div.sk-toggleable__content {max-height: 200px;max-width: 100%;overflow: auto;}#sk-container-id-3 input.sk-toggleable__control:checked~label.sk-toggleable__label-arrow:before {content: \"▾\";}#sk-container-id-3 div.sk-estimator input.sk-toggleable__control:checked~label.sk-toggleable__label {background-color: #d4ebff;}#sk-container-id-3 div.sk-label input.sk-toggleable__control:checked~label.sk-toggleable__label {background-color: #d4ebff;}#sk-container-id-3 input.sk-hidden--visually {border: 0;clip: rect(1px 1px 1px 1px);clip: rect(1px, 1px, 1px, 1px);height: 1px;margin: -1px;overflow: hidden;padding: 0;position: absolute;width: 1px;}#sk-container-id-3 div.sk-estimator {font-family: monospace;background-color: #f0f8ff;border: 1px dotted black;border-radius: 0.25em;box-sizing: border-box;margin-bottom: 0.5em;}#sk-container-id-3 div.sk-estimator:hover {background-color: #d4ebff;}#sk-container-id-3 div.sk-parallel-item::after {content: \"\";width: 100%;border-bottom: 1px solid gray;flex-grow: 1;}#sk-container-id-3 div.sk-label:hover label.sk-toggleable__label {background-color: #d4ebff;}#sk-container-id-3 div.sk-serial::before {content: \"\";position: absolute;border-left: 1px solid gray;box-sizing: border-box;top: 0;bottom: 0;left: 50%;z-index: 0;}#sk-container-id-3 div.sk-serial {display: flex;flex-direction: column;align-items: center;background-color: white;padding-right: 0.2em;padding-left: 0.2em;position: relative;}#sk-container-id-3 div.sk-item {position: relative;z-index: 1;}#sk-container-id-3 div.sk-parallel {display: flex;align-items: stretch;justify-content: center;background-color: white;position: relative;}#sk-container-id-3 div.sk-item::before, #sk-container-id-3 div.sk-parallel-item::before {content: \"\";position: absolute;border-left: 1px solid gray;box-sizing: border-box;top: 0;bottom: 0;left: 50%;z-index: -1;}#sk-container-id-3 div.sk-parallel-item {display: flex;flex-direction: column;z-index: 1;position: relative;background-color: white;}#sk-container-id-3 div.sk-parallel-item:first-child::after {align-self: flex-end;width: 50%;}#sk-container-id-3 div.sk-parallel-item:last-child::after {align-self: flex-start;width: 50%;}#sk-container-id-3 div.sk-parallel-item:only-child::after {width: 0;}#sk-container-id-3 div.sk-dashed-wrapped {border: 1px dashed gray;margin: 0 0.4em 0.5em 0.4em;box-sizing: border-box;padding-bottom: 0.4em;background-color: white;}#sk-container-id-3 div.sk-label label {font-family: monospace;font-weight: bold;display: inline-block;line-height: 1.2em;}#sk-container-id-3 div.sk-label-container {text-align: center;}#sk-container-id-3 div.sk-container {/* jupyter's `normalize.less` sets `[hidden] { display: none; }` but bootstrap.min.css set `[hidden] { display: none !important; }` so we also need the `!important` here to be able to override the default hidden behavior on the sphinx rendered scikit-learn.org. See: https://github.com/scikit-learn/scikit-learn/issues/21755 */display: inline-block !important;position: relative;}#sk-container-id-3 div.sk-text-repr-fallback {display: none;}</style><div id=\"sk-container-id-3\" class=\"sk-top-container\"><div class=\"sk-text-repr-fallback\"><pre>Ridge()</pre><b>In a Jupyter environment, please rerun this cell to show the HTML representation or trust the notebook. <br />On GitHub, the HTML representation is unable to render, please try loading this page with nbviewer.org.</b></div><div class=\"sk-container\" hidden><div class=\"sk-item\"><div class=\"sk-estimator sk-toggleable\"><input class=\"sk-toggleable__control sk-hidden--visually\" id=\"sk-estimator-id-3\" type=\"checkbox\" checked><label for=\"sk-estimator-id-3\" class=\"sk-toggleable__label sk-toggleable__label-arrow\">Ridge</label><div class=\"sk-toggleable__content\"><pre>Ridge()</pre></div></div></div></div></div>"
      ],
      "text/plain": [
       "Ridge()"
      ]
     },
     "execution_count": 20,
     "metadata": {},
     "output_type": "execute_result"
    }
   ],
   "source": [
    "#utilizamos el mismo modelo Ridge \n",
    "model4 = Ridge(alpha=1.0)\n",
    "model4.fit(X_train_vec4, y_train)"
   ]
  },
  {
   "cell_type": "code",
   "execution_count": 21,
   "metadata": {},
   "outputs": [
    {
     "name": "stdout",
     "output_type": "stream",
     "text": [
      "Punto 4 - MSE con TfidfVectorizer: 0.01805127682317832\n"
     ]
    }
   ],
   "source": [
    "#ahora realizamos la predicción utiliando tfidfVectorizer\n",
    "y_pred4 = model4.predict(X_test_vec4)\n",
    "mse4 = mean_squared_error(y_test, y_pred4)\n",
    "print(\"Punto 4 - MSE con TfidfVectorizer:\", mse4)"
   ]
  },
  {
   "cell_type": "code",
   "execution_count": 22,
   "metadata": {},
   "outputs": [
    {
     "data": {
      "text/plain": [
       "array([0.00033627, 0.03390841, 0.08328341, ..., 0.06845931, 0.00138953,\n",
       "       0.16257378])"
      ]
     },
     "execution_count": 22,
     "metadata": {},
     "output_type": "execute_result"
    }
   ],
   "source": [
    "y_pred4"
   ]
  },
  {
   "cell_type": "markdown",
   "metadata": {},
   "source": [
    "## Punto 5 - Comparación y análisis de resultados\n",
    "\n",
    "En la celda 5 comparen los resultados obtenidos de los diferentes modelos y comenten cómo el preprocesamiento de texto afecta el desempeño."
   ]
  },
  {
   "cell_type": "code",
   "execution_count": 29,
   "metadata": {},
   "outputs": [
    {
     "data": {
      "image/png": "[encoded data removed]",
      "text/plain": [
       "<Figure size 800x500 with 1 Axes>"
      ]
     },
     "metadata": {},
     "output_type": "display_data"
    }
   ],
   "source": [
    "import matplotlib.pyplot as plt\n",
    "mse_values = {\n",
    "    \"CountVectorizer\": mse1,\n",
    "    \"Trigramas\": mse2,\n",
    "    \"TfidfVectorizer\": mse4\n",
    "}\n",
    "\n",
    "# Crear gráfico\n",
    "plt.figure(figsize=(8, 5))\n",
    "bars = plt.bar(mse_values.keys(), mse_values.values(), color='orange')\n",
    "plt.title(\"Comparación de MSE por técnica de vectorización\")\n",
    "plt.ylabel(\"MSE\")\n",
    "plt.xlabel(\"Técnica de Vectorización\")\n",
    "plt.grid(axis='y')\n",
    "\n",
    "# Añadir etiquetas de MSE encima de cada barra\n",
    "for bar in bars:\n",
    "    yval = bar.get_height()\n",
    "    plt.text(bar.get_x() + bar.get_width()/2, yval + 0.001, f\"{yval:.4f}\", \n",
    "             ha='center', va='bottom', fontsize=10)\n",
    "\n",
    "plt.tight_layout()\n",
    "plt.show()"
   ]
  },
  {
   "cell_type": "code",
   "execution_count": null,
   "metadata": {},
   "outputs": [],
   "source": [
    "### Punto 5.1 - Comparación y análisis de resultados\n"
   ]
  }
 ],
 "metadata": {
  "kernelspec": {
   "display_name": "base",
   "language": "python",
   "name": "python3"
  },
  "language_info": {
   "codemirror_mode": {
    "name": "ipython",
    "version": 3
   },
   "file_extension": ".py",
   "mimetype": "text/x-python",
   "name": "python",
   "nbconvert_exporter": "python",
   "pygments_lexer": "ipython3",
   "version": "3.8.16"
  },
  "name": "_merged"
 },
 "nbformat": 4,
 "nbformat_minor": 4
}
